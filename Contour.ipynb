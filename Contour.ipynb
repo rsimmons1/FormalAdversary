{
 "cells": [
  {
   "cell_type": "code",
   "execution_count": 1,
   "metadata": {},
   "outputs": [
    {
     "name": "stdout",
     "output_type": "stream",
     "text": [
      "[2.61656741 2.61656741 2.61656741 2.61656741]\n",
      "[[ 0.10499359  0.10499359  0.10499359  0.10499359]\n",
      " [-0.10499359 -0.10499359 -0.10499359 -0.10499359]]\n"
     ]
    }
   ],
   "source": [
    "import numpy as np\n",
    "import matplotlib.pyplot as plt\n",
    "from matplotlib.ticker import MaxNLocator\n",
    "\n",
    "def binary_ce(p, y):\n",
    "    return -1*(y*np.log2(p) + (1 - y)*np.log2(1-p))\n",
    "\n",
    "def grad_binary_ce(p, y):\n",
    "    return -1*((y / p) + (1 - y) / (1 - p))\n",
    "\n",
    "def sigmoid(X, w, b):\n",
    "    z = 1 + np.exp(-1*(np.dot(w, X)+ b))\n",
    "    return 1 / z\n",
    "\n",
    "def grad_sigmoid(X, w, b):\n",
    "    activations = sigmoid(X, w, b)\n",
    "    return activations*(1 - activations)*w[:, np.newaxis].repeat(X.shape[1], axis=1)\n",
    "    \n",
    "def diff_loss(X, source, source_label, w, b):\n",
    "    p_X = sigmoid(X, w, b)\n",
    "    p_source = sigmoid(source, w, b)\n",
    "    loss_X = binary_ce(p_X, source_label)\n",
    "    loss_source = binary_ce(p_source, source_label)\n",
    "    return loss_X - loss_source\n",
    "    \n",
    "def adv_gain(X, source, source_label, w, b):\n",
    "    p_X = sigmoid(X, w, b)\n",
    "    p_source = sigmoid(source, w, b)\n",
    "    dist_diff = np.linalg.norm(X - source, axis=0)\n",
    "    loss_X = binary_ce(p_X, source_label)\n",
    "    loss_source = binary_ce(p_source, source_label)\n",
    "    return np.abs(loss_X - loss_source) / dist_diff\n",
    "\n",
    "\n",
    "def grad_adv_gain(X, source, source_label, w, b):\n",
    "    X_diff = X - source\n",
    "    dist_diff = np.linalg.norm(X_diff, axis=0)\n",
    "    D = diff_loss(X_diff, source, source_label, w, b)\n",
    "    sigmoid_val = sigmoid(X_diff, w, b)\n",
    "    \n",
    "    bce_grad = grad_binary_ce(sigmoid_val, source_label)\n",
    "    sigmoid_grad = grad_sigmoid(X, w, b)\n",
    "    loss_grad = bce_grad*sigmoid_grad\n",
    "    \n",
    "    return -1*(np.sign(D)*loss_grad*dist_diff - (np.abs(D)*(X / dist_diff))) / dist_diff**2\n",
    "    \n",
    "def line_generator(range_vals, w, b):\n",
    "    return -1*(b + w[0]*range_vals) / w[1]\n",
    "\n",
    "source = np.array([[0],[1]])\n",
    "X = np.array([[1, 2, 3, 4],\n",
    "              [5, 6, 7, 8]])\n",
    "w = np.array([1 ,-1])\n",
    "b = 2\n",
    "\n",
    "print(diff_loss(X, source, 1, w, b))\n",
    "print(grad_sigmoid(X, w, b))\n",
    "# print(grad_adv_gain(X, source, source_label, w, b))"
   ]
  },
  {
   "cell_type": "code",
   "execution_count": 55,
   "metadata": {},
   "outputs": [
    {
     "name": "stdout",
     "output_type": "stream",
     "text": [
      "(2, 71824)\n",
      "(268, 268) (268, 268)\n",
      "25540\n",
      "0.4546978473235583\n",
      "(80, 95)\n",
      "-8.0 -20.0\n",
      "<matplotlib.colors.LinearSegmentedColormap object at 0x7f4295a110b8>\n"
     ]
    },
    {
     "name": "stderr",
     "output_type": "stream",
     "text": [
      "/usr/local/lib/python3.6/dist-packages/ipykernel_launcher.py:6: RuntimeWarning: divide by zero encountered in log2\n",
      "  \n",
      "/usr/local/lib/python3.6/dist-packages/ipykernel_launcher.py:6: RuntimeWarning: invalid value encountered in multiply\n",
      "  \n",
      "/usr/local/lib/python3.6/dist-packages/ipykernel_launcher.py:9: RuntimeWarning: invalid value encountered in true_divide\n",
      "  if __name__ == '__main__':\n"
     ]
    },
    {
     "data": {
      "image/png": "[encoded data removed]",
      "text/plain": [
       "<Figure size 432x288 with 2 Axes>"
      ]
     },
     "metadata": {
      "needs_background": "light"
     },
     "output_type": "display_data"
    }
   ],
   "source": [
    "# make these smaller to increase the resolution\n",
    "dx, dy = 0.15, 0.15\n",
    "\n",
    "# generate 2 2d grids for the x & y bounds\n",
    "bound_x = 20\n",
    "bound_y = 20\n",
    "y, x = np.mgrid[slice(-bound_y, bound_y + dy, dy),\n",
    "                slice(-bound_x, bound_x + dx, dx)]\n",
    "x_sample = x[::2, ::2]\n",
    "y_sample = y[::2, ::2]\n",
    "\n",
    "source = np.array([[10], [2]])\n",
    "source_label = 1\n",
    "w = 1*np.array([4 , 3])\n",
    "b = 0\n",
    "\n",
    "plot_x = x[0].copy()\n",
    "plot_y = line_generator(plot_x, w, b)\n",
    "# plot_y = plot_y[plot_y > -5] \n",
    "# plot_x = plot_x[:len(plot_y)]\n",
    "\n",
    "\n",
    "# X, Y = np.meshgrid(x, y)\n",
    "XY = np.vstack([x.flatten(), y.flatten()])\n",
    "XY_sample = np.vstack([x_sample.flatten(), y_sample.flatten()])\n",
    "print(XY.shape)\n",
    "print(x.shape, y.shape)\n",
    "z = np.linalg.norm(adv_gain_1d(XY, source, w, b), axis=0).reshape(x.shape[0], y.shape[0])\n",
    "max_val_index  = np.argmax(z)\n",
    "print(max_val_index)\n",
    "print(z.max())\n",
    "print((max_val_index % x.shape[0], max_val_index // y.shape[0]))\n",
    "max_val_x, max_val_y = (max_val_index % x.shape[0], max_val_index // y.shape[0])\n",
    "x_max , y_max = (XY[0, max_val_x], XY[1, max_val_y])\n",
    "print(x_max, y_max)\n",
    "# z = np.linalg.norm(grad_adv_gain(XY, source, source_label, w, b), axis=0).reshape(x.shape[0], y.shape[0])\n",
    "adv_grad = grad_adv_gain(XY_sample, source, source_label, w, b)\n",
    "U = adv_grad[0].reshape(x_sample.shape[1], y_sample.shape[1])\n",
    "V = adv_grad[1].reshape(x_sample.shape[1], y_sample.shape[1])\n",
    "\n",
    "# x and y are bounds, so z should be the value *inside* those bounds.\n",
    "# Therefore, remove the last value from the z array.\n",
    "levels = MaxNLocator(nbins=100).tick_values(z.min(), z.max())\n",
    "\n",
    "# pick the desired colormap, sensible levels, and define a normalization\n",
    "# instance which takes data values and translates those into levels.\n",
    "cmap = plt.get_cmap('pink')\n",
    "# norm = BoundaryNorm(levels, ncolors=cmap.N, clip=True)\n",
    "print(cmap)\n",
    "fig, (ax0) = plt.subplots(nrows=1)\n",
    "\n",
    "# im = ax0.pcolormesh(x, y, z, cmap=cmap, norm=norm)\n",
    "# fig.colorbar(im, ax=ax0)\n",
    "# ax0.set_title('pcolormesh with levels')\n",
    "\n",
    "\n",
    "# contours are *point* based plots, so convert our bound into point\n",
    "# centers\n",
    "cf = ax0.contourf(x + dx/2.,\n",
    "             y + dy/2., z, levels=levels,\n",
    "             cmap=cmap)\n",
    "fig.colorbar(cf, ax=ax0)\n",
    "ax0.set_title('contourf with levels')\n",
    "ax0.plot(source[0], source[1], 'b*')\n",
    "ax0.plot(plot_x, plot_y, 'b--')\n",
    "ax0.plot(-1.28, -0.07, 'r*')\n",
    "# ax0.quiver(x_sample, y_sample, U, V)\n",
    "# adjust spacing between subplots so `ax1` title and `ax0` tick labels\n",
    "# don't overlap\n",
    "fig.tight_layout()\n",
    "\n",
    "plt.show()"
   ]
  },
  {
   "cell_type": "code",
   "execution_count": 11,
   "metadata": {},
   "outputs": [
    {
     "name": "stderr",
     "output_type": "stream",
     "text": [
      "/usr/local/lib/python3.6/dist-packages/ipykernel_launcher.py:9: RuntimeWarning: divide by zero encountered in true_divide\n",
      "  if __name__ == '__main__':\n",
      "/usr/local/lib/python3.6/dist-packages/ipykernel_launcher.py:9: RuntimeWarning: invalid value encountered in multiply\n",
      "  if __name__ == '__main__':\n"
     ]
    },
    {
     "data": {
      "text/plain": [
       "[<matplotlib.lines.Line2D at 0x7f429055f588>]"
      ]
     },
     "execution_count": 11,
     "metadata": {},
     "output_type": "execute_result"
    },
    {
     "data": {
      "image/png": "[encoded data removed]",
      "text/plain": [
       "<Figure size 432x288 with 1 Axes>"
      ]
     },
     "metadata": {
      "needs_background": "light"
     },
     "output_type": "display_data"
    }
   ],
   "source": [
    "def adv_gain_1d(x, a, w, b):\n",
    "    n_x = np.linalg.norm(x, axis=0)\n",
    "    z = np.exp(-1*(np.dot(w, (x + a)) + b))\n",
    "    z_s = np.exp(-1*(np.dot(w, a) + b))\n",
    "    D = np.log((1 + z) / (1 + z_s))\n",
    "#     print(z.shape, z_s.shape, D.shape)\n",
    "#     print((D/X).shape)\n",
    "#     print(((D/x) +w*(z / (1 + z))).shape)\n",
    "    return  -1*np.sign(D)*(1 / n_x)*(w[:, np.newaxis]*(z / (1 + z)) + x*(1 / n_x**2)*D)\n",
    "#     return -1*(np.linalg.norm(x[:, np.newaxis], axis=1)/ x   )*np.sign(D)*(1 / x)*((D/x) +w*(z / (1 + z)))\n",
    "\n",
    "w = np.array([2])\n",
    "b = np.array([2])\n",
    "source = np.array([5])\n",
    "source_label = 1\n",
    "x = np.linspace(5, -10.0, num=100).reshape(100, 1).T\n",
    "# print(x)\n",
    "# loss_vals = binary_ce(sigmoid(x, w, b), 1)\n",
    "grad_vals = np.abs(adv_gain_1d(x, source, w, b))\n",
    "# print(grad_vals)\n",
    "# plt.plot(x[0], loss_vals)\n",
    "plt.plot(x[0], grad_vals[0], 'r--') "
   ]
  },
  {
   "cell_type": "code",
   "execution_count": 23,
   "metadata": {},
   "outputs": [
    {
     "data": {
      "text/plain": [
       "3"
      ]
     },
     "execution_count": 23,
     "metadata": {},
     "output_type": "execute_result"
    }
   ],
   "source": [
    "a = np.array([[1, 3], [4, -2]])\n"
   ]
  }
 ],
 "metadata": {
  "kernelspec": {
   "display_name": "py_36_env",
   "language": "python",
   "name": "py_36_env"
  },
  "language_info": {
   "codemirror_mode": {
    "name": "ipython",
    "version": 3
   },
   "file_extension": ".py",
   "mimetype": "text/x-python",
   "name": "python",
   "nbconvert_exporter": "python",
   "pygments_lexer": "ipython3",
   "version": "3.6.5"
  }
 },
 "nbformat": 4,
 "nbformat_minor": 2
}
